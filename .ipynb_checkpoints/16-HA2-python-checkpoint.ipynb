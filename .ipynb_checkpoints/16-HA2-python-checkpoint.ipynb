{
 "cells": [
  {
   "cell_type": "code",
   "execution_count": 167,
   "id": "6e0afe32",
   "metadata": {},
   "outputs": [],
   "source": [
    "#project 2 - Computer Intense Methods\n",
    "import pandas as pd\n",
    "import numpy as np\n",
    "np.random.seed(123)\n",
    "\n",
    "\n",
    "tau = pd.read_csv('coal-mine.csv', header = None).to_numpy().flatten()\n",
    "t1 =  1851\n",
    "tlast =  1963\n",
    "\n",
    "# fix d and sample initial t's\n",
    "d = 4\n",
    "t = np.sort(np.random.uniform(t1, tlast, d)) # initial t's uniformly distributed between [t1, tlast]\n",
    "t = np.concatenate( (np.array([t1]), t, np.array([tlast])))\n",
    "\n",
    "# fix v and sample initial theta\n",
    "v = 2\n",
    "theta = np.random.gamma(2, 1/v)\n",
    "theta\n",
    "\n",
    "# fix rho\n",
    "rho = 0.5"
   ]
  },
  {
   "cell_type": "code",
   "execution_count": 165,
   "id": "18289a4c-d4f0-4f46-83d1-3294f83ca7ee",
   "metadata": {},
   "outputs": [
    {
     "data": {
      "text/plain": [
       "array([1851.        , 1948.26672182, 1945.54108465, 1952.5176492 ,\n",
       "       1951.76225215, 1963.        ])"
      ]
     },
     "execution_count": 165,
     "metadata": {},
     "output_type": "execute_result"
    }
   ],
   "source": [
    "def posterior(t, lamb):\n",
    "    diff = np.diff(t)[1:]\n",
    "    return np.prod(diff) * np.exp(-np.sum(lamb * diff))\n",
    "\n",
    "tau\n",
    "idx = np.searchsorted(tau, t)\n",
    "t"
   ]
  },
  {
   "cell_type": "code",
   "execution_count": 170,
   "id": "dd8f2436-b51a-4237-8f9b-45ef0d264267",
   "metadata": {},
   "outputs": [
    {
     "name": "stdout",
     "output_type": "stream",
     "text": [
      "[1.77927033 1.37776275 0.22088772 0.59170736]\n",
      "0.8943362200022044\n",
      "[1851.         1938.05491854 1958.02137611 1959.82128131 1961.15986028\n",
      " 1963.        ]\n",
      "probab:\n",
      "0.30588211058752557\n"
     ]
    }
   ],
   "source": [
    "N = 10000\n",
    "probabs = []\n",
    "for i in range(N):\n",
    "    # sample lambda\n",
    "     ## use np.searchsorted to find n_i(tau) = number of disasters in [t_i, t_i+1)\n",
    "    idx = np.searchsorted(tau, t)\n",
    "    n = np.diff(idx)\n",
    "     ## we need to sample each element lambda_i separately (where i = 1, ..., d)\n",
    "    lamb = []\n",
    "    for j in range(d):\n",
    "        lamb.append(np.random.gamma(n[j]+2, 1/(theta + (t[j+1]-t[j]))))\n",
    "    lamb = np.array(lamb)\n",
    "    \n",
    "    # sample theta\n",
    "    theta = np.random.gamma(2*d+2, 1/(v + np.sum(lamb)))\n",
    "    \n",
    "    # MH step for t\n",
    "     ## choose candidate\n",
    "    t_star = t.copy()\n",
    "    for j in range(1, d+1):\n",
    "        R = rho*(t[j+1] - t[j-1])\n",
    "        eps = np.random.uniform(-R, R) # different epsilon for every t_i ??\n",
    "        if t_star[j-1] < t[j] + eps < t_star[j+1]:\n",
    "            t_star[j] = t[j] + eps\n",
    "\n",
    "     ## accept or reject\n",
    "    acceptance_probab = min(1, posterior(t_star, lamb)/posterior(t, lamb))\n",
    "    probabs.append(acceptance_probab)\n",
    "    u = np.random.uniform()\n",
    "    if u <= acceptance_probab:\n",
    "        # accept candidate\n",
    "        t = t_star\n",
    "        # else t stays the same\n",
    "\n",
    "print(lamb)\n",
    "print(theta)\n",
    "print(t_star)\n",
    "\n",
    "print(\"probab:\")\n",
    "print(np.mean(probabs))"
   ]
  }
 ],
 "metadata": {
  "kernelspec": {
   "display_name": "Python 3 (ipykernel)",
   "language": "python",
   "name": "python3"
  },
  "language_info": {
   "codemirror_mode": {
    "name": "ipython",
    "version": 3
   },
   "file_extension": ".py",
   "mimetype": "text/x-python",
   "name": "python",
   "nbconvert_exporter": "python",
   "pygments_lexer": "ipython3",
   "version": "3.12.4"
  }
 },
 "nbformat": 4,
 "nbformat_minor": 5
}
